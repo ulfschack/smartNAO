{
 "cells": [
  {
   "cell_type": "markdown",
   "id": "b29ef48b-2ea0-45c3-80a4-126a9fc0f1de",
   "metadata": {
    "tags": []
   },
   "source": [
    "![ProjektSkiss](graphViz.png)"
   ]
  },
  {
   "cell_type": "code",
   "execution_count": null,
   "id": "cab4fc57-89b6-4202-b360-28869e104dee",
   "metadata": {},
   "outputs": [],
   "source": []
  },
  {
   "cell_type": "code",
   "execution_count": null,
   "id": "607dfa3f-5855-4813-bf22-231fd381f33b",
   "metadata": {
    "id": "607dfa3f-5855-4813-bf22-231fd381f33b"
   },
   "outputs": [],
   "source": []
  }
 ],
 "metadata": {
  "colab": {
   "provenance": []
  },
  "kernelspec": {
   "display_name": "Python 3 (ipykernel)",
   "language": "python",
   "name": "python3"
  },
  "language_info": {
   "codemirror_mode": {
    "name": "ipython",
    "version": 3
   },
   "file_extension": ".py",
   "mimetype": "text/x-python",
   "name": "python",
   "nbconvert_exporter": "python",
   "pygments_lexer": "ipython3",
   "version": "3.11.3"
  }
 },
 "nbformat": 4,
 "nbformat_minor": 5
}
